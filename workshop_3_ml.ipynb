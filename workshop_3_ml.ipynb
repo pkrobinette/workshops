{
  "nbformat": 4,
  "nbformat_minor": 0,
  "metadata": {
    "colab": {
      "name": "workshop-3-ml.ipynb",
      "provenance": [],
      "authorship_tag": "ABX9TyNSLMK5wWZxrqN7/oXOoCQ8",
      "include_colab_link": true
    },
    "kernelspec": {
      "name": "python3",
      "display_name": "Python 3"
    }
  },
  "cells": [
    {
      "cell_type": "markdown",
      "metadata": {
        "id": "view-in-github",
        "colab_type": "text"
      },
      "source": [
        "<a href=\"https://colab.research.google.com/github/pkrobinette/workshops/blob/main/workshop_3_ml.ipynb\" target=\"_parent\"><img src=\"https://colab.research.google.com/assets/colab-badge.svg\" alt=\"Open In Colab\"/></a>"
      ]
    },
    {
      "cell_type": "markdown",
      "metadata": {
        "id": "BH98HGO9X3Ot"
      },
      "source": [
        "# Workshop 3: Machine Learning\n",
        "**Acknowlegements:** Resources modified from [scikit learn tutorial](https://scikit-learn.org/stable/tutorial/basic/tutorial.html#machine-learning-the-problem-setting)\n",
        "\n",
        "- Directions: Follow along in order with the following code blocks. To run a code block, do one of the following:\n",
        "1.   Hover over the block and click the black circle\n",
        "2.   Press shift -> enter\n",
        "\n",
        "If more information is needed on Python, check out the following sites:\n",
        "\n",
        "*   [Python Installation](https://docs.anaconda.com/anaconda/install/) using Anaconda\n",
        "*   More information about [Python](https://www.python.org/)\n",
        "*   A [great resource](https://swcarpentry.github.io/python-novice-inflammation/setup.html) for learning Python basics, includes tutorials and setup\n",
        "\n",
        "\n"
      ]
    },
    {
      "cell_type": "markdown",
      "metadata": {
        "id": "kJrWViNybGce"
      },
      "source": [
        "\n",
        "## Loading Example Datasets\n"
      ]
    },
    {
      "cell_type": "code",
      "metadata": {
        "id": "uKKR5P_vTEcm"
      },
      "source": [
        "# Import necessary libraries for downloading datasets\n",
        "from sklearn import datasets"
      ],
      "execution_count": 25,
      "outputs": []
    },
    {
      "cell_type": "markdown",
      "metadata": {
        "id": "nZqVatVKbRB8"
      },
      "source": [
        "\n",
        "`scikit-learn` comes with a few standard datasets, for instance the iris and digits datasets for classification and the diabetes dataset for regression.\n",
        "\n",
        "The iris dataset:\n",
        "\n",
        "* Consists of 3 different types of irises' (Setosa, Versicolour, and Virginica) petal and sepal length \n",
        "*  Rows are the respective samples\n",
        "*  Columns are Sepal Length, Sepal Width, Petal Length and Petal Width\n",
        "\n",
        "The digits dataset:\n",
        "- Consists of 1797 8x8 images\n",
        "- Each image is of a hand-written digit\n",
        "- 8x8 image is often represented by vector of length 64\n",
        "  "
      ]
    },
    {
      "cell_type": "code",
      "metadata": {
        "id": "h5Zp4jC0TjIn"
      },
      "source": [
        "# loading the iris dataset\n",
        "iris = datasets.load_iris()\n",
        "\n",
        "# loading the digits dataset\n",
        "digits = datasets.load_digits()"
      ],
      "execution_count": 2,
      "outputs": []
    },
    {
      "cell_type": "markdown",
      "metadata": {
        "id": "KcHNV-8KfCCN"
      },
      "source": [
        "### Exercise 1:\n",
        "---\n",
        "> Using the above notation, load the `wine` dataset into a variable named `wine`. You can check your implementation in the `Completed Workshop 3: Machine Learning` notebook. **note Make NOTEBOOK**"
      ]
    },
    {
      "cell_type": "code",
      "metadata": {
        "id": "w6N6t22TTnTk"
      },
      "source": [
        "# load the wine dataset\n",
        "wine = datasets.load_wine()"
      ],
      "execution_count": 16,
      "outputs": []
    },
    {
      "cell_type": "markdown",
      "metadata": {
        "id": "5TCPfXH3frLP"
      },
      "source": [
        "A dataset is a dictionary-like object that holds all the data and some metadata about the data. This data is stored in the .data member, which is a n_samples, n_features array. In the case of supervised problem, one or more response variables are stored in the .target member. \n",
        "- the rows are each of the samples\n",
        "- the columns are each of the features"
      ]
    },
    {
      "cell_type": "code",
      "metadata": {
        "id": "FNHbhpq_eYrh"
      },
      "source": [
        "# the iris data\n",
        "print(iris.data)"
      ],
      "execution_count": null,
      "outputs": []
    },
    {
      "cell_type": "markdown",
      "metadata": {
        "id": "anh2YmQmhXu1"
      },
      "source": [
        "The targets are the actual labels of each of the samples. Each numerical label corresponds to flower type (Setosa, Versicolour, Virginica)."
      ]
    },
    {
      "cell_type": "code",
      "metadata": {
        "id": "s4Ww952vhdCW"
      },
      "source": [
        "print(iris.target)"
      ],
      "execution_count": null,
      "outputs": []
    },
    {
      "cell_type": "markdown",
      "metadata": {
        "id": "rpHFdOg-hwdC"
      },
      "source": [
        "### Exercise 2:\n",
        "---\n",
        "\n",
        "> 1. Print the data of the digits dataset\n",
        "2. Print the length of the digits dataset\n",
        "3. Print only the first sample of the digits dataset\n",
        "4. Print the targets of the digits dataset\n",
        "\n",
        "Check your implementation in the `Completed Workshop 3: Machine Learning` section."
      ]
    },
    {
      "cell_type": "code",
      "metadata": {
        "id": "2VPh1cdsTqAz"
      },
      "source": [
        "# print the digits data\n",
        "print(digits.data)\n",
        "# print the length of the dataset\n",
        "print(len(digits.data))\n",
        "#print only the first sample of the digits dataset\n",
        "print(digits.data[0])\n",
        "#print the targets\n",
        "print(digits.target)"
      ],
      "execution_count": null,
      "outputs": []
    },
    {
      "cell_type": "markdown",
      "metadata": {
        "id": "Rr48E8Vij0I1"
      },
      "source": [
        "## Learning and Predicting\n",
        "\n",
        "In the case of the digits dataset, the task is to predict, given an image, which digit it represents. We are given samples of each of the 10 possible classes (the digits zero through nine) on which we fit an estimator to be able to predict the classes to which unseen samples belong.\n",
        "\n",
        "In scikit-learn, an estimator for classification is a Python object that implements the methods fit(X, y) and predict(T). Fit is creating a function that maps inputs (X) to labels (y). Predict then takes this function and returns a predicted label for a given sample T.\n",
        "\n",
        "An example of an estimator is the class sklearn.svm.SVC, which implements support vector classification. The estimator’s constructor takes as arguments the model’s parameters.\n",
        "\n",
        "For now, we will consider the estimator as a black box:\n",
        "\n",
        "\n",
        "\n",
        "\n"
      ]
    },
    {
      "cell_type": "code",
      "metadata": {
        "id": "xcTJWTH1UCvK"
      },
      "source": [
        "# import the support vector machine library (svm) from sklearn\n",
        "from sklearn import svm\n",
        "clf = svm.SVC(gamma=0.001, C=100.)"
      ],
      "execution_count": 40,
      "outputs": []
    },
    {
      "cell_type": "code",
      "metadata": {
        "colab": {
          "base_uri": "https://localhost:8080/"
        },
        "id": "PiZECSMPUJxU",
        "outputId": "a33fa116-14da-4fa1-b6f7-be8a7dfce48c"
      },
      "source": [
        "clf.fit(digits.data[:-1], digits.target[:-1])"
      ],
      "execution_count": 41,
      "outputs": [
        {
          "output_type": "execute_result",
          "data": {
            "text/plain": [
              "SVC(C=100.0, break_ties=False, cache_size=200, class_weight=None, coef0=0.0,\n",
              "    decision_function_shape='ovr', degree=3, gamma=0.001, kernel='rbf',\n",
              "    max_iter=-1, probability=False, random_state=None, shrinking=True,\n",
              "    tol=0.001, verbose=False)"
            ]
          },
          "metadata": {
            "tags": []
          },
          "execution_count": 41
        }
      ]
    },
    {
      "cell_type": "code",
      "metadata": {
        "colab": {
          "base_uri": "https://localhost:8080/"
        },
        "id": "a3_kHmWjUPou",
        "outputId": "f9126dc4-1908-41c5-ba71-bc35a6c04942"
      },
      "source": [
        "print(clf.predict(digits.data[-1:])==digits.target[-1:])"
      ],
      "execution_count": 42,
      "outputs": [
        {
          "output_type": "stream",
          "text": [
            "[ True]\n"
          ],
          "name": "stdout"
        }
      ]
    },
    {
      "cell_type": "code",
      "metadata": {
        "colab": {
          "base_uri": "https://localhost:8080/"
        },
        "id": "wZ_Si2SJUWPl",
        "outputId": "9c10eb59-e191-4640-9ff8-128ce15117f4"
      },
      "source": [
        "clf = svm.SVC(gamma=0.001, C=100.)\n",
        "clf.fit(iris.data[:-1], iris.target[:-1])"
      ],
      "execution_count": 36,
      "outputs": [
        {
          "output_type": "execute_result",
          "data": {
            "text/plain": [
              "SVC(C=100.0, break_ties=False, cache_size=200, class_weight=None, coef0=0.0,\n",
              "    decision_function_shape='ovr', degree=3, gamma=0.001, kernel='rbf',\n",
              "    max_iter=-1, probability=False, random_state=None, shrinking=True,\n",
              "    tol=0.001, verbose=False)"
            ]
          },
          "metadata": {
            "tags": []
          },
          "execution_count": 36
        }
      ]
    },
    {
      "cell_type": "code",
      "metadata": {
        "colab": {
          "base_uri": "https://localhost:8080/"
        },
        "id": "DS28EtZGmxH2",
        "outputId": "cf9aad8b-e70d-4bdc-a7cb-5853f9ebf783"
      },
      "source": [
        "print(clf.predict(iris.data[-1:])==digits.target[-1:])"
      ],
      "execution_count": 37,
      "outputs": [
        {
          "output_type": "stream",
          "text": [
            "[False]\n"
          ],
          "name": "stdout"
        }
      ]
    },
    {
      "cell_type": "code",
      "metadata": {
        "id": "QOBf2nR7m5Lq"
      },
      "source": [
        ""
      ],
      "execution_count": null,
      "outputs": []
    }
  ]
}